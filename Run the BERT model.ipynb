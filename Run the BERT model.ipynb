{
 "cells": [
  {
   "cell_type": "markdown",
   "metadata": {},
   "source": [
    "# Running BertExtAbs (skip to last cell)"
   ]
  },
  {
   "cell_type": "code",
   "execution_count": null,
   "metadata": {},
   "outputs": [],
   "source": [
    "#train BERT extractive-abstractive model\n",
    "\n",
    "!python train.py  \\\n",
    "    -task abs \\\n",
    "    -mode train \\\n",
    "    -bert_data_path ./bert_data \\\n",
    "    -dec_dropout 0.2  \\\n",
    "    -model_path ./models \\\n",
    "    -sep_optim true \\\n",
    "    -lr_bert 0.002 \\\n",
    "    -lr_dec 0.2 \\\n",
    "    -save_checkpoint_steps 2000 \\\n",
    "    -batch_size 140 \\\n",
    "    -train_steps 200 \\\n",
    "    -report_every 50 \\\n",
    "    -accum_count 5 \\\n",
    "    -use_bert_emb true \\\n",
    "    -use_interval true \\\n",
    "    -warmup_steps_bert 20 \\\n",
    "    -warmup_steps_dec 10 \\\n",
    "    -max_pos 512 \\\n",
    "    -visible_gpus -1 \\\n",
    "    -log_file ./logs/abs_bert_cnndm  \\\n",
    "    -load_from_extractive EXT_CKPT   \n"
   ]
  },
  {
   "cell_type": "code",
   "execution_count": null,
   "metadata": {},
   "outputs": [],
   "source": [
    "# evaluate \n",
    "\n",
    "!python ./src/train.py \\\n",
    "    -task abs \\\n",
    "    -mode validate \\\n",
    "    -batch_size 3000 \\\n",
    "    -test_batch_size 500 \\\n",
    "    -bert_data_path ./bert_data \\\n",
    "    -log_file ./logs/val_abs_bert_cnndm \\\n",
    "    -model_path ./models/model_step_148000.pt \\\n",
    "    -sep_optim true \\\n",
    "    -use_interval true \\\n",
    "    -visible_gpus -1 \\\n",
    "    -max_pos 512 \\\n",
    "    -max_length 200 \\\n",
    "    -alpha 0.95 \\\n",
    "    -min_length 50 \\\n",
    "    -result_path ./logs/abs_bert_cnndm\n"
   ]
  },
  {
   "cell_type": "code",
   "execution_count": null,
   "metadata": {},
   "outputs": [],
   "source": []
  },
  {
   "cell_type": "code",
   "execution_count": null,
   "metadata": {
    "scrolled": false
   },
   "outputs": [],
   "source": [
    "# #Train BERT Extractive model\n",
    "#this actually ran, we think\n",
    "\n",
    "!python ./src/train.py \\\n",
    "    -task ext \\\n",
    "    -mode train \\\n",
    "    -bert_data_path ./bert_data/cnndm \\\n",
    "    -ext_dropout 0.1 \\\n",
    "    -model_path ./models/ \\\n",
    "    -lr 2e-3 \\\n",
    "    -visible_gpus -1 \\\n",
    "    -report_every 50 \\\n",
    "    -save_checkpoint_steps 1000 \\\n",
    "    -batch_size 3000 \\\n",
    "    -train_steps 500 \\\n",
    "    -accum_count 2 \\\n",
    "    -log_file ./logs/ext_bert_cnndm \\\n",
    "    -use_interval true \\\n",
    "    -warmup_steps 10 \\\n",
    "    -max_pos 512\n"
   ]
  },
  {
   "cell_type": "code",
   "execution_count": null,
   "metadata": {},
   "outputs": [],
   "source": []
  },
  {
   "cell_type": "markdown",
   "metadata": {},
   "source": [
    "## Below is the actual code we ran to summarize raw text"
   ]
  },
  {
   "cell_type": "code",
   "execution_count": null,
   "metadata": {
    "scrolled": false
   },
   "outputs": [
    {
     "name": "stdout",
     "output_type": "stream",
     "text": [
      "[2020-04-15 06:00:21,716 INFO] Loading checkpoint from ./models/model_step_148000.pt\n",
      "Namespace(accum_count=1, alpha=0.6, batch_size=140, beam_size=5, bert_data_path='../bert_data_new/cnndm', beta1=0.9, beta2=0.999, block_trigram=True, dec_dropout=0.2, dec_ff_size=2048, dec_heads=8, dec_hidden_size=768, dec_layers=6, enc_dropout=0.2, enc_ff_size=512, enc_hidden_size=512, enc_layers=6, encoder='bert', ext_dropout=0.2, ext_ff_size=2048, ext_heads=8, ext_hidden_size=768, ext_layers=2, finetune_bert=True, generator_shard_size=32, gpu_ranks=[0], label_smoothing=0.1, large=False, load_from_extractive='', log_file='./logs/ext_test', lr=1, lr_bert=0.002, lr_dec=0.002, max_grad_norm=0, max_length=150, max_ndocs_in_batch=6, max_pos=512, max_tgt_len=140, min_length=15, mode='test_text', model_path='../models/', optim='adam', param_init=0, param_init_glorot=True, recall_eval=False, report_every=1, report_rouge=True, result_path='./results', save_checkpoint_steps=5, seed=666, sep_optim=False, share_emb=False, task='abs', temp_dir='./temp', test_all=False, test_batch_size=200, test_from='./models/model_step_148000.pt', test_start_from=-1, text_src='./raw_data/mini_val2_clean.csv', text_tgt='', train_from='', train_steps=1000, use_bert_emb=False, use_interval=True, visible_gpus='-1', warmup_steps=8000, warmup_steps_bert=8000, warmup_steps_dec=8000, world_size=1)\n",
      "[2020-04-15 06:00:29,233 INFO] loading configuration file https://s3.amazonaws.com/models.huggingface.co/bert/bert-base-uncased-config.json from cache at ./temp/4dad0251492946e18ac39290fcfe91b89d370fee250efe9521476438fe8ca185.8f56353af4a709bf5ff0fbc915d8f5b42bfff892cbb6ac98c3c45f481a03c685\n",
      "[2020-04-15 06:00:29,234 INFO] Model config {\n",
      "  \"architectures\": [\n",
      "    \"BertForMaskedLM\"\n",
      "  ],\n",
      "  \"attention_probs_dropout_prob\": 0.1,\n",
      "  \"finetuning_task\": null,\n",
      "  \"hidden_act\": \"gelu\",\n",
      "  \"hidden_dropout_prob\": 0.1,\n",
      "  \"hidden_size\": 768,\n",
      "  \"initializer_range\": 0.02,\n",
      "  \"intermediate_size\": 3072,\n",
      "  \"layer_norm_eps\": 1e-12,\n",
      "  \"max_position_embeddings\": 512,\n",
      "  \"num_attention_heads\": 12,\n",
      "  \"num_hidden_layers\": 12,\n",
      "  \"num_labels\": 2,\n",
      "  \"output_attentions\": false,\n",
      "  \"output_hidden_states\": false,\n",
      "  \"pruned_heads\": {},\n",
      "  \"torchscript\": false,\n",
      "  \"type_vocab_size\": 2,\n",
      "  \"vocab_size\": 30522\n",
      "}\n",
      "\n",
      "[2020-04-15 06:00:29,524 INFO] loading weights file https://s3.amazonaws.com/models.huggingface.co/bert/bert-base-uncased-pytorch_model.bin from cache at ./temp/aa1ef1aede4482d0dbcd4d52baad8ae300e60902e88fcb0bebdec09afd232066.36ca03ab34a1a5d5fa7bc3d03d55c4fa650fed07220e2eeebc06ce58d0e9a157\n",
      "[2020-04-15 06:00:36,586 INFO] loading file https://s3.amazonaws.com/models.huggingface.co/bert/bert-base-uncased-vocab.txt from cache at ./temp/26bc1ad6c0ac742e9b52263248f6d0f00068293b33709fae12320c0e35ccfbbb.542ce4285a40d23a559526243235df47c5f75c197f04f37d1a0c124c32c9a084\n",
      "[2020-04-15 06:00:37,164 INFO] loading vocabulary file https://s3.amazonaws.com/models.huggingface.co/bert/bert-base-uncased-vocab.txt from cache at /home/ikchau/.cache/torch/pytorch_transformers/26bc1ad6c0ac742e9b52263248f6d0f00068293b33709fae12320c0e35ccfbbb.542ce4285a40d23a559526243235df47c5f75c197f04f37d1a0c124c32c9a084\n",
      " 54%|███████████████████                | 2064/3801 [4:02:12<3:20:48,  6.94s/it]"
     ]
    }
   ],
   "source": [
    "#try to summarize\n",
    "\n",
    "!python ./src/train.py \\\n",
    "    -task abs \\\n",
    "    -mode test_text \\\n",
    "    -test_from ./models/model_step_148000.pt \\\n",
    "    -text_src ./raw_data/mini_val2_clean.csv \\\n",
    "    -log_file ./logs/ext_test \\\n",
    "    -visible_gpus -1 \\\n",
    "    -result_path ./results \\\n",
    "    -temp_dir ./temp\n"
   ]
  }
 ],
 "metadata": {
  "kernelspec": {
   "display_name": "Python 3",
   "language": "python",
   "name": "python3"
  },
  "language_info": {
   "codemirror_mode": {
    "name": "ipython",
    "version": 3
   },
   "file_extension": ".py",
   "mimetype": "text/x-python",
   "name": "python",
   "nbconvert_exporter": "python",
   "pygments_lexer": "ipython3",
   "version": "3.7.4"
  }
 },
 "nbformat": 4,
 "nbformat_minor": 2
}
