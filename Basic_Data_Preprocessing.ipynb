{
 "cells": [
  {
   "cell_type": "code",
   "execution_count": 31,
   "metadata": {},
   "outputs": [],
   "source": [
    "import numpy as np\n",
    "import pandas as pd\n",
    "import time"
   ]
  },
  {
   "cell_type": "markdown",
   "metadata": {},
   "source": [
    "Define function to remove data encoding tag (b for bytes) as well as extra quotations around each example (remnants from extraction from tensorflow)"
   ]
  },
  {
   "cell_type": "code",
   "execution_count": 18,
   "metadata": {},
   "outputs": [],
   "source": [
    "#remove the first 2 and last character of each string\n",
    "def remove_b(example):\n",
    "    return example[2:-1]"
   ]
  },
  {
   "cell_type": "code",
   "execution_count": 45,
   "metadata": {},
   "outputs": [],
   "source": [
    "#load test data\n",
    "test_df = pd.read_csv(\"./CNNDM_dataset/test_dataframe.csv\")"
   ]
  },
  {
   "cell_type": "code",
   "execution_count": 46,
   "metadata": {},
   "outputs": [
    {
     "name": "stdout",
     "output_type": "stream",
     "text": [
      "--- 0.07217741012573242 seconds ---\n"
     ]
    }
   ],
   "source": [
    "#clean test examples and time it\n",
    "start_time=time.time()\n",
    "\n",
    "test_highlights = test_df['highlights'].apply(remove_b)\n",
    "test_articles = test_df['article'].apply(remove_b)\n",
    "\n",
    "print(\"--- %s seconds ---\" % (time.time() - start_time))"
   ]
  },
  {
   "cell_type": "code",
   "execution_count": 47,
   "metadata": {},
   "outputs": [],
   "source": [
    "#create dataframe with cleaned articles, highlights\n",
    "test = list(zip(test_articles, test_highlights))\n",
    "df_test_new = pd.DataFrame(data=test, dtype = 'str', columns=['article','highlights'])"
   ]
  },
  {
   "cell_type": "code",
   "execution_count": 49,
   "metadata": {},
   "outputs": [],
   "source": [
    "#write cleaned test data to new csv\n",
    "with open('test_dataframe_clean.csv', 'w') as f1:\n",
    "    df_test_new.to_csv(f1)"
   ]
  },
  {
   "cell_type": "code",
   "execution_count": 41,
   "metadata": {},
   "outputs": [],
   "source": [
    "#load validation data\n",
    "val_df = pd.read_csv(\"./CNNDM_dataset/validation_dataframe.csv\")"
   ]
  },
  {
   "cell_type": "code",
   "execution_count": 42,
   "metadata": {},
   "outputs": [
    {
     "name": "stdout",
     "output_type": "stream",
     "text": [
      "--- 0.08400797843933105 seconds ---\n"
     ]
    }
   ],
   "source": [
    "#clean validation data, create dataframe, write to csv\n",
    "start_time=time.time()\n",
    "\n",
    "val_highlights = val_df['highlights'].apply(remove_b)\n",
    "val_articles = val_df['article'].apply(remove_b)\n",
    "\n",
    "print(\"--- %s seconds ---\" % (time.time() - start_time))\n",
    "\n",
    "val = list(zip(val_articles, val_highlights))\n",
    "\n",
    "df_val_new = pd.DataFrame(data=val, dtype = 'str', columns=['article','highlights'])\n",
    "\n",
    "with open('val_dataframe_clean.csv', 'w') as f1:\n",
    "    df_val_new.to_csv(f1)"
   ]
  },
  {
   "cell_type": "markdown",
   "metadata": {},
   "source": [
    "## Actual data we used\n",
    "1500 articles for validation set initially, followed by the next 3800 from the same set. "
   ]
  },
  {
   "cell_type": "code",
   "execution_count": 52,
   "metadata": {},
   "outputs": [
    {
     "name": "stderr",
     "output_type": "stream",
     "text": [
      "/home/ikchau/anaconda3/lib/python3.7/site-packages/ipykernel_launcher.py:4: FutureWarning: The signature of `Series.to_csv` was aligned to that of `DataFrame.to_csv`, and argument 'header' will change its default value from False to True: please pass an explicit value to suppress this warning.\n",
      "  after removing the cwd from sys.path.\n"
     ]
    }
   ],
   "source": [
    "# only collect articles\n",
    "# we took 1500 just to get outputs quickly and have some data to work on\n",
    "mini_val_articles = df_val_new['article'][:1500]\n",
    "with open('mini_val.csv', 'w') as f1:\n",
    "    mini_val_articles.to_csv(f1)"
   ]
  },
  {
   "cell_type": "code",
   "execution_count": 54,
   "metadata": {},
   "outputs": [
    {
     "name": "stderr",
     "output_type": "stream",
     "text": [
      "/home/ikchau/anaconda3/lib/python3.7/site-packages/ipykernel_launcher.py:4: FutureWarning: The signature of `Series.to_csv` was aligned to that of `DataFrame.to_csv`, and argument 'header' will change its default value from False to True: please pass an explicit value to suppress this warning.\n",
      "  after removing the cwd from sys.path.\n"
     ]
    }
   ],
   "source": [
    "# get 3800 more articles, ~10 hours of modeling\n",
    "mini_val2 = df_val_new['article'][1500:5300]\n",
    "with open('mini_val2_no_sep.csv', 'w') as f1:\n",
    "    mini_val2.to_csv(f1)"
   ]
  },
  {
   "cell_type": "markdown",
   "metadata": {},
   "source": [
    "Code to clean the training data. We didn't actually need this because with our limited computing power, we only had time to process a few thousand examples which we took from the validation  examples."
   ]
  },
  {
   "cell_type": "code",
   "execution_count": 43,
   "metadata": {},
   "outputs": [
    {
     "data": {
      "text/html": [
       "<div>\n",
       "<style scoped>\n",
       "    .dataframe tbody tr th:only-of-type {\n",
       "        vertical-align: middle;\n",
       "    }\n",
       "\n",
       "    .dataframe tbody tr th {\n",
       "        vertical-align: top;\n",
       "    }\n",
       "\n",
       "    .dataframe thead th {\n",
       "        text-align: right;\n",
       "    }\n",
       "</style>\n",
       "<table border=\"1\" class=\"dataframe\">\n",
       "  <thead>\n",
       "    <tr style=\"text-align: right;\">\n",
       "      <th></th>\n",
       "      <th>Unnamed: 0</th>\n",
       "      <th>article</th>\n",
       "      <th>highlights</th>\n",
       "    </tr>\n",
       "  </thead>\n",
       "  <tbody>\n",
       "    <tr>\n",
       "      <td>287108</td>\n",
       "      <td>287108</td>\n",
       "      <td>b\"By . James Rush . Former first daughter Chel...</td>\n",
       "      <td>b\"Chelsea Clinton said question of running for...</td>\n",
       "    </tr>\n",
       "    <tr>\n",
       "      <td>287109</td>\n",
       "      <td>287109</td>\n",
       "      <td>b\"An apologetic Vanilla Ice has given his firs...</td>\n",
       "      <td>b\"Vanilla Ice, 47 - real name Robert Van Winkl...</td>\n",
       "    </tr>\n",
       "    <tr>\n",
       "      <td>287110</td>\n",
       "      <td>287110</td>\n",
       "      <td>b'America\\'s most lethal sniper claimed he wis...</td>\n",
       "      <td>b\"America's most lethal sniper made comment in...</td>\n",
       "    </tr>\n",
       "    <tr>\n",
       "      <td>287111</td>\n",
       "      <td>287111</td>\n",
       "      <td>b\"By . Sara Malm . PUBLISHED: . 12:19 EST, 8 M...</td>\n",
       "      <td>b\"A swarm of more than one million has crossed...</td>\n",
       "    </tr>\n",
       "    <tr>\n",
       "      <td>287112</td>\n",
       "      <td>287112</td>\n",
       "      <td>b'(CNN)Former Florida Gov. Jeb Bush has decide...</td>\n",
       "      <td>b\"Other 2016 hopefuls maintain that Bush's ann...</td>\n",
       "    </tr>\n",
       "  </tbody>\n",
       "</table>\n",
       "</div>"
      ],
      "text/plain": [
       "        Unnamed: 0                                            article  \\\n",
       "287108      287108  b\"By . James Rush . Former first daughter Chel...   \n",
       "287109      287109  b\"An apologetic Vanilla Ice has given his firs...   \n",
       "287110      287110  b'America\\'s most lethal sniper claimed he wis...   \n",
       "287111      287111  b\"By . Sara Malm . PUBLISHED: . 12:19 EST, 8 M...   \n",
       "287112      287112  b'(CNN)Former Florida Gov. Jeb Bush has decide...   \n",
       "\n",
       "                                               highlights  \n",
       "287108  b\"Chelsea Clinton said question of running for...  \n",
       "287109  b\"Vanilla Ice, 47 - real name Robert Van Winkl...  \n",
       "287110  b\"America's most lethal sniper made comment in...  \n",
       "287111  b\"A swarm of more than one million has crossed...  \n",
       "287112  b\"Other 2016 hopefuls maintain that Bush's ann...  "
      ]
     },
     "execution_count": 43,
     "metadata": {},
     "output_type": "execute_result"
    }
   ],
   "source": [
    "# train_df = pd.read_csv(\"./CNNDM_dataset/train_dataframe.csv\")\n",
    "# train_df.tail()"
   ]
  },
  {
   "cell_type": "code",
   "execution_count": 55,
   "metadata": {},
   "outputs": [],
   "source": [
    "# start_time=time.time()\n",
    "\n",
    "# train_highlights = train_df['highlights'].apply(remove_b)\n",
    "# train_articles = train_df['article'].apply(remove_b)\n",
    "\n",
    "# print(\"--- %s seconds ---\" % (time.time() - start_time))\n",
    "\n",
    "# train = list(zip(train_articles, train_highlights))\n",
    "\n",
    "# df_train_new = pd.DataFrame(data=train, dtype = 'str', columns=['article','highlights'])\n",
    "\n",
    "# with open('train_dataframe_clean.csv', 'w') as f1:\n",
    "#     df_train_new.to_csv(f1)"
   ]
  }
 ],
 "metadata": {
  "kernelspec": {
   "display_name": "Python 3",
   "language": "python",
   "name": "python3"
  },
  "language_info": {
   "codemirror_mode": {
    "name": "ipython",
    "version": 3
   },
   "file_extension": ".py",
   "mimetype": "text/x-python",
   "name": "python",
   "nbconvert_exporter": "python",
   "pygments_lexer": "ipython3",
   "version": "3.7.4"
  }
 },
 "nbformat": 4,
 "nbformat_minor": 2
}
