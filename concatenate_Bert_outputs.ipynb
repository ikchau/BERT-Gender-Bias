{
 "cells": [
  {
   "cell_type": "code",
   "execution_count": 25,
   "metadata": {},
   "outputs": [],
   "source": [
    "import numpy as np\n",
    "import pandas as pd"
   ]
  },
  {
   "cell_type": "code",
   "execution_count": 23,
   "metadata": {},
   "outputs": [],
   "source": [
    "val_1500 = pd.read_csv('val_1500_output_raw.txt', sep='\\n', names=['summary'])\n",
    "val_3800 = pd.read_csv('val_3800_output_raw.txt', sep='\\n', names=['summary'])\n",
    "data = pd.concat([val_1500, val_3800], ignore_index=True)"
   ]
  },
  {
   "cell_type": "code",
   "execution_count": 24,
   "metadata": {},
   "outputs": [
    {
     "data": {
      "text/html": [
       "<div>\n",
       "<style scoped>\n",
       "    .dataframe tbody tr th:only-of-type {\n",
       "        vertical-align: middle;\n",
       "    }\n",
       "\n",
       "    .dataframe tbody tr th {\n",
       "        vertical-align: top;\n",
       "    }\n",
       "\n",
       "    .dataframe thead th {\n",
       "        text-align: right;\n",
       "    }\n",
       "</style>\n",
       "<table border=\"1\" class=\"dataframe\">\n",
       "  <thead>\n",
       "    <tr style=\"text-align: right;\">\n",
       "      <th></th>\n",
       "      <th>summary</th>\n",
       "    </tr>\n",
       "  </thead>\n",
       "  <tbody>\n",
       "    <tr>\n",
       "      <td>0</td>\n",
       "      <td>forrest , whose birth name was katherine feene...</td>\n",
       "    </tr>\n",
       "    <tr>\n",
       "      <td>1</td>\n",
       "      <td>wang lian , 35 , has created 1000 stunning ink...</td>\n",
       "    </tr>\n",
       "    <tr>\n",
       "      <td>2</td>\n",
       "      <td>iftekhar murtaza, 30, was sentenced to death t...</td>\n",
       "    </tr>\n",
       "    <tr>\n",
       "      <td>3</td>\n",
       "      <td>england beat france 55-35 in 'le crunch match ...</td>\n",
       "    </tr>\n",
       "    <tr>\n",
       "      <td>4</td>\n",
       "      <td>after tuesday 's grill team show- hosts matty ...</td>\n",
       "    </tr>\n",
       "    <tr>\n",
       "      <td>...</td>\n",
       "      <td>...</td>\n",
       "    </tr>\n",
       "    <tr>\n",
       "      <td>5295</td>\n",
       "      <td>ian burnett from jeparit victoria has spent $2...</td>\n",
       "    </tr>\n",
       "    <tr>\n",
       "      <td>5296</td>\n",
       "      <td>the black hat bandits are suspected in a two-m...</td>\n",
       "    </tr>\n",
       "    <tr>\n",
       "      <td>5297</td>\n",
       "      <td>marlee and jordan follman from brisbane decide...</td>\n",
       "    </tr>\n",
       "    <tr>\n",
       "      <td>5298</td>\n",
       "      <td>university of the witwatersrand in johannesbur...</td>\n",
       "    </tr>\n",
       "    <tr>\n",
       "      <td>5299</td>\n",
       "      <td>photos show emaciated bodies ; some have eyes ...</td>\n",
       "    </tr>\n",
       "  </tbody>\n",
       "</table>\n",
       "<p>5300 rows × 1 columns</p>\n",
       "</div>"
      ],
      "text/plain": [
       "                                                summary\n",
       "0     forrest , whose birth name was katherine feene...\n",
       "1     wang lian , 35 , has created 1000 stunning ink...\n",
       "2     iftekhar murtaza, 30, was sentenced to death t...\n",
       "3     england beat france 55-35 in 'le crunch match ...\n",
       "4     after tuesday 's grill team show- hosts matty ...\n",
       "...                                                 ...\n",
       "5295  ian burnett from jeparit victoria has spent $2...\n",
       "5296  the black hat bandits are suspected in a two-m...\n",
       "5297  marlee and jordan follman from brisbane decide...\n",
       "5298  university of the witwatersrand in johannesbur...\n",
       "5299  photos show emaciated bodies ; some have eyes ...\n",
       "\n",
       "[5300 rows x 1 columns]"
      ]
     },
     "execution_count": 24,
     "metadata": {},
     "output_type": "execute_result"
    }
   ],
   "source": [
    "data"
   ]
  },
  {
   "cell_type": "code",
   "execution_count": null,
   "metadata": {},
   "outputs": [],
   "source": []
  }
 ],
 "metadata": {
  "kernelspec": {
   "display_name": "Python 3",
   "language": "python",
   "name": "python3"
  },
  "language_info": {
   "codemirror_mode": {
    "name": "ipython",
    "version": 3
   },
   "file_extension": ".py",
   "mimetype": "text/x-python",
   "name": "python",
   "nbconvert_exporter": "python",
   "pygments_lexer": "ipython3",
   "version": "3.7.4"
  }
 },
 "nbformat": 4,
 "nbformat_minor": 2
}
